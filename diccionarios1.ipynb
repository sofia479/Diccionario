{
  "nbformat": 4,
  "nbformat_minor": 0,
  "metadata": {
    "colab": {
      "provenance": [],
      "authorship_tag": "ABX9TyPOaqRdDH1pTESjUkRs+hN/",
      "include_colab_link": true
    },
    "kernelspec": {
      "name": "python3",
      "display_name": "Python 3"
    },
    "language_info": {
      "name": "python"
    }
  },
  "cells": [
    {
      "cell_type": "markdown",
      "metadata": {
        "id": "view-in-github",
        "colab_type": "text"
      },
      "source": [
        "<a href=\"https://colab.research.google.com/github/sofia479/Diccionario/blob/main/diccionarios1.ipynb\" target=\"_parent\"><img src=\"https://colab.research.google.com/assets/colab-badge.svg\" alt=\"Open In Colab\"/></a>"
      ]
    },
    {
      "cell_type": "code",
      "execution_count": null,
      "metadata": {
        "id": "S5HNABnEpd_b"
      },
      "outputs": [],
      "source": []
    },
    {
      "cell_type": "markdown",
      "source": [
        "# diccionarios\n",
        "- son datos estruturados, es decir hacen referencia a una coleccion de datos.\n",
        "-son una coleccion desordenada de pares de forma clave: valor,conocidos como elementos o items\n",
        "- son mutibles,por tanto, una vez defnido un diccionario se le pueden agregar nuevos elementos,modificar o eliminar algunos de los que ya tiene.\n",
        "- tambien se les conoce como mapa de hash o arreglos asociativos.\n",
        "- en python los diccionarios son de tipo dict y se utiliza la siguiente sintexiss para crear una variable de este tipo:\n",
        "\n",
        "`nombre_dict-(clave1:valor1, clave2:valor,)\n",
        "\n",
        "\n",
        "\n",
        "```\n",
        "# Esto tiene formato de código\n",
        "```\n",
        "-cada iten o elemento tiene la forma clave:valor\n",
        "- en cada iten hay una clave y uno o mas valores , si se desconocen el valor,se puede llevar con `none`\n",
        "- los elementos del diccionario se indexan por la clave.\n",
        "-las claves solo pueden ser datos inmutables,\n",
        "-las claves no pueden repetirse dentro de un diccionario."
      ],
      "metadata": {
        "id": "aeugHxaNpjxr"
      }
    },
    {
      "cell_type": "code",
      "source": [
        "# Diccionario con clave tipo cadena\n",
        "\n",
        "num meses=1:\"enero\",2:\"febrero\",3:\"marzo\",4:\"abril\",5:\"mayo\",6:\"junio\",7:\"julio\",8:\"agosto\",9:\"septiembre\",10:\"octubre\",11:\"noviembre\",12:\"dicimbre\",\n",
        " print(num_meses)\n",
        "\n",
        " nom_meses=1:\"enero\",2: \"febrero\",3:\"marzo\",4:\"abril\",5:\"mayo\",6:\"junio\",7:\"julio\",8:\"agosto\",9:\"septiembre\",10:\"octubre\",11:\"noviembre\",12:\"diciembre\",\n",
        "  print(nom_meses)\n",
        "\n",
        "  frutas= {\"manzana\":34 \"pera\":45 \"uva\":23¨}\n",
        "  print(frutas)\n",
        "  # agregar elementos\n",
        "    frutas[\"cereza\"] =90\n",
        "     print(frutas)\n",
        "\n",
        "  # modificar un elemento\n",
        "  frutas[\"cereza\"]=50\n",
        "   print(fruta)"
      ],
      "metadata": {
        "colab": {
          "base_uri": "https://localhost:8080/",
          "height": 106
        },
        "id": "F79wOjmFsqhP",
        "outputId": "7052c8d4-5639-40b9-da5c-47ea25efa363"
      },
      "execution_count": 3,
      "outputs": [
        {
          "output_type": "error",
          "ename": "SyntaxError",
          "evalue": "invalid character '¨' (U+00A8) (<ipython-input-3-b9fff01fd368>, line 9)",
          "traceback": [
            "\u001b[0;36m  File \u001b[0;32m\"<ipython-input-3-b9fff01fd368>\"\u001b[0;36m, line \u001b[0;32m9\u001b[0m\n\u001b[0;31m    frutas= {\"manzana\":34 \"pera\":45 \"uva\":23¨}\u001b[0m\n\u001b[0m                                            ^\u001b[0m\n\u001b[0;31mSyntaxError\u001b[0m\u001b[0;31m:\u001b[0m invalid character '¨' (U+00A8)\n"
          ]
        }
      ]
    }
  ]
}